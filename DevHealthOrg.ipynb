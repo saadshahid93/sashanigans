{
 "cells": [
  {
   "cell_type": "markdown",
   "metadata": {},
   "source": [
    "# Data Engineer Technical Assessment \n",
    "### Saad Shahid\n",
    "### 2nd June, 2020\n",
    "\n",
    "Time distribution\n",
    "**Task 1**: 45 min\n",
    "**Task 2**: 15 min\n",
    "**Task 3**: 20 min\n"
   ]
  },
  {
   "cell_type": "markdown",
   "metadata": {},
   "source": [
    "#### Programming Task"
   ]
  },
  {
   "cell_type": "code",
   "execution_count": 19,
   "metadata": {},
   "outputs": [],
   "source": [
    "#import statements\n",
    "import pandas as pd\n",
    "from collections import Counter\n",
    "import numpy as np\n",
    "import matplotlib.pyplot as plt"
   ]
  },
  {
   "cell_type": "code",
   "execution_count": 20,
   "metadata": {},
   "outputs": [],
   "source": [
    "#read areas and visits files into dataframes\n",
    "areas=pd.read_csv('areas.csv')\n",
    "visits=pd.read_csv('visits.csv')\n"
   ]
  },
  {
   "cell_type": "code",
   "execution_count": 21,
   "metadata": {},
   "outputs": [],
   "source": [
    "user_file = open(\"users.txt\", \"r\")\n",
    "users={}\n",
    "\n",
    "#read users into a dictionary with beneficiary being the key and value being the user id\n",
    "for line in user_file:\n",
    "    k,v=line.split(\": \")\n",
    "    for beneficiary in v.split(','):\n",
    "        users[beneficiary[12:]]=k[5:]\n",
    "    "
   ]
  },
  {
   "cell_type": "code",
   "execution_count": 22,
   "metadata": {},
   "outputs": [
    {
     "name": "stdout",
     "output_type": "stream",
     "text": [
      "5.074385964912281\n",
      "5.0\n"
     ]
    }
   ],
   "source": [
    "#Count visits for each beneficiary\n",
    "visit_count=Counter([beneficiary[12:] for beneficiary in visits['Beneficiary'].tolist()])\n",
    "#mean of all visits\n",
    "visit_mean=np.array(list(visit_count.values())).mean()\n",
    "print(visit_mean)\n",
    "#median of all visis\n",
    "visit_median=np.median(list(visit_count.values()))\n",
    "print(visit_median)\n",
    "\n",
    "#filter out beneficiaries that have received less than the median amount of healthcare\n",
    "insufficient=[k for k,v in visit_count.items() if v < visit_median]"
   ]
  },
  {
   "cell_type": "code",
   "execution_count": 23,
   "metadata": {},
   "outputs": [],
   "source": [
    "#Make a dictionary with key as the beneficiary and value as the district of that beneficiary\n",
    "area_dict=dict(zip([b[12:] for b in areas['Beneficiary'].tolist()],[d[9:] for d in areas['Area'].tolist()]))\n",
    "\n",
    "#Count the number of beneficiaries in each district with less than median number of visits\n",
    "area_count=Counter([v for k,v in area_dict.items() if k in insufficient])\n",
    "    "
   ]
  },
  {
   "cell_type": "code",
   "execution_count": 24,
   "metadata": {},
   "outputs": [
    {
     "data": {
      "image/png": "[encoded data removed]",
      "text/plain": [
       "<Figure size 432x288 with 1 Axes>"
      ]
     },
     "metadata": {
      "needs_background": "light"
     },
     "output_type": "display_data"
    }
   ],
   "source": [
    "#Function to plot bar graph\n",
    "def plot_bar(d):\n",
    "    plt.bar(range(len(d)), list(d.values()), align='center')\n",
    "    plt.xticks(range(len(d)), list(d.keys()))\n",
    "    plt.show()\n",
    "    \n",
    "#the district number against the number of beneficiaries in each dictrict with 'insufficient' health care visits   \n",
    "plot_bar(area_count)"
   ]
  },
  {
   "cell_type": "markdown",
   "metadata": {},
   "source": [
    "There are some beneficiaries in the visit data which are not assigned to any user. We'll remove those for this analysis"
   ]
  },
  {
   "cell_type": "code",
   "execution_count": 25,
   "metadata": {},
   "outputs": [
    {
     "data": {
      "text/plain": [
       "2823"
      ]
     },
     "execution_count": 25,
     "metadata": {},
     "output_type": "execute_result"
    }
   ],
   "source": [
    "#These are the number of beneficiaries which are not assigned to any users\n",
    "not_assigned=[v for v in visit_count if v not in users.keys()]\n",
    "len(not_assigned)\n",
    "#remove from visit_count to keep user data consistent\n",
    "visit_count={k:v for k,v in visit_count.items() if k in users.keys()}\n",
    "len(visit_count)"
   ]
  },
  {
   "cell_type": "code",
   "execution_count": 26,
   "metadata": {},
   "outputs": [
    {
     "name": "stdout",
     "output_type": "stream",
     "text": [
      "98.0\n"
     ]
    }
   ],
   "source": [
    "user_visits=Counter(set(users.values()))\n",
    "for k,v in visit_count.items(): \n",
    "    user_visits[users[k]]+=1\n",
    "user_median=np.median(list(user_visits.values()))\n",
    "print(user_median)"
   ]
  },
  {
   "cell_type": "markdown",
   "metadata": {},
   "source": [
    "The median number of visits for health care users is 98. We can identify the the underperformers and overperformers by looking at the users which are significantly less or more than the median value. Another way of doing this would be to look at the IQR and see the outliers.\n",
    "The visualization below can be improved given more time. Since this is a time bound activity I am using the basic bar chart without formatting."
   ]
  },
  {
   "cell_type": "code",
   "execution_count": 27,
   "metadata": {},
   "outputs": [
    {
     "data": {
      "image/png": "[encoded data removed]",
      "text/plain": [
       "<Figure size 432x288 with 1 Axes>"
      ]
     },
     "metadata": {
      "needs_background": "light"
     },
     "output_type": "display_data"
    }
   ],
   "source": [
    "#Plot user against number of visits\n",
    "plot_bar(user_visits)"
   ]
  },
  {
   "cell_type": "markdown",
   "metadata": {},
   "source": [
    "Some of the possible explanations for the results we see:\n",
    "    1. The users who are underperforming might not be getting as many calls/visits from beneficiaries. This might a case of need\n",
    "    2. The districts where more beneficiaries are present that are not receiving sufficient healthcare might not have enough users assigned to them. \n",
    "    3. Districits with less visits might not have enough clinics\n",
    "Some of the explanations above can be checked/validated from the data given. We could check users assigned to each district for example."
   ]
  },
  {
   "cell_type": "markdown",
   "metadata": {},
   "source": [
    "#### Code Review Task\n",
    "\n",
    "Please note I do not have much experience with R. My primary languages are Java and Python. I have also not used\n",
    "the pipe function in R before as used here (Had to google). \n",
    "Suggestions:\n",
    "1. Also add a condition to check if beneficiary 1 is in program B and beneficiary 2 is in program A. Right now by restricting \n",
    "beneficiary 1 to program A we are limiting the number of potential candidates.\n",
    "2. Filter by area first and then program. Filtering by area twice after doing it by program is unneccessary.\n",
    "3. Overlap should be measured as total similar biometrics/ sum of total beneficiaries from both programs. The metric should not be influenced by lack of data.\n",
    "If we do not have a comparison of two beneficiaries, that should negatively influence the value of our metric. (encourage more data collection/ data building)\n",
    "4. Remove/Comment out the print statements. This is unneccessary output. The function should just return the required metric.\n",
    "5. We should keep the threshold as an input parameter rather than hardcode it to 80. Thats a better practice in case decision makers decide to change that\n",
    "treshold.\n"
   ]
  },
  {
   "cell_type": "markdown",
   "metadata": {},
   "source": [
    "#### Design Task\n",
    "\n",
    "From the top of my head a good visualization to show in the app would be to show a heat map. The darker an area is on a map, the higher the number of programs which cover those areas. We can also provide two dropdown menus to the user where they can use two programs to compare and we can show the stats of the overlapping beneficiaries. The stats would obviously be aggregated and would show demographic information available of the overlaps.\n",
    "\n",
    "**Here is how I think we can arrange the data**:\n",
    "We build a new database table (lets call it beneficiary_program) with a unique id assigned to each beneficiary and then a binary column (1/0) for each program. build this table by comparing beneficiaries in the same area with same gender and same age. Filtering through demographics significantly reduces the number of comparisons we need to make (number of API calls). This is a one time exercise that we do for all our existing data before taking the application live. \n",
    "\n",
    "**Once the application is live**:\n",
    "Considering the nature of the application, I do not believe the picture on the app needs to be updated live. We can run a batch script (frequency dependent on number of entries we get in a given time period). The batch script takes in new entries in the database since the last run, filters based on gender, area and age and compares with the existing entries in our beneficiary program (filtered). If it exists we simply set the column of the program in the new entry to 1. \n",
    "\n",
    "**Backend of the visualization**: \n",
    "We can make aggregated tables for the visualization which can be refreshed after a certain time. For example if the app is on Microstrategy Mobile platform we would set up a cube that is refreshed with a frequency we deem appropriate. For the heat map we can simply mantain a table with area and number of programs it has which is built from the beneficiary_program table. For the comparisons depending on the size of the data we can either do an instant query or have a table with an entry for all possible comparisons (this would again be updated every x time period from our refresh scripts)"
   ]
  }
 ],
 "metadata": {
  "kernelspec": {
   "display_name": "Python 3",
   "language": "python",
   "name": "python3"
  },
  "language_info": {
   "codemirror_mode": {
    "name": "ipython",
    "version": 3
   },
   "file_extension": ".py",
   "mimetype": "text/x-python",
   "name": "python",
   "nbconvert_exporter": "python",
   "pygments_lexer": "ipython3",
   "version": "3.6.9"
  }
 },
 "nbformat": 4,
 "nbformat_minor": 2
}
