{
  "nbformat": 4,
  "nbformat_minor": 0,
  "metadata": {
    "colab": {
      "name": "HW2 (1).ipynb",
      "version": "0.3.2",
      "provenance": [],
      "collapsed_sections": []
    },
    "kernelspec": {
      "display_name": "Python 3",
      "language": "python",
      "name": "python3"
    }
  },
  "cells": [
    {
      "metadata": {
        "colab_type": "text",
        "id": "vqrJ-IoMq4M8"
      },
      "cell_type": "markdown",
      "source": [
        "# HW 2: Clustering and Topic Models [100 points]"
      ]
    },
    {
      "metadata": {
        "colab_type": "text",
        "id": "44h9Ltr9q4M9"
      },
      "cell_type": "markdown",
      "source": [
        "Name: Saad Shahid\n",
        "\n",
        "Andrew ID: sshahid\n",
        "\n",
        "Collaborators (if none, say \"none\"; do *not* leave this blank): Discussed outputs with a few classmates.\n",
        "\n",
        "Reminder: you should not be sharing code."
      ]
    },
    {
      "metadata": {
        "colab_type": "text",
        "id": "-I0Ny9duq4M-"
      },
      "cell_type": "markdown",
      "source": [
        "## Question 1: Clustering emails using Gaussian Mixture Models [50 pts]"
      ]
    },
    {
      "metadata": {
        "colab_type": "text",
        "id": "CLz7HIi8q4M_"
      },
      "cell_type": "markdown",
      "source": [
        "For this problem, we will be analyzing emails taken from the [Enron Email Dataset](https://www.cs.cmu.edu/~enron/). Data is provided in the `enron` data directory, with one file per email. The data set includes a combination of \"spam\" and \"ham\" emails. Spam emails are unsolicited messages intended to sell a product or scam users into providing personal information, while ham emails represent everything that is not spam. \n",
        "\n",
        "The language used in spam emails tends to be considerably different from typical business emails. Most spam filters leverage this difference in word frequencies to detect spam as it arrives and filter it out of email inboxes. We will use Gaussian Mixture Models (GMMs) to cluster the emails and attempt to identify groups of emails which are likely to be spam."
      ]
    },
    {
      "metadata": {
        "colab_type": "text",
        "id": "hHEXU81qq4NA"
      },
      "cell_type": "markdown",
      "source": [
        "### Part A: Construct a list of processed documents [10 points]"
      ]
    },
    {
      "metadata": {
        "colab_type": "text",
        "id": "BXZnuYgxq4NB"
      },
      "cell_type": "markdown",
      "source": [
        "Provided below is a function that returns a document present in a file given a filename. The function performs some preprocessing to (1) remove punctuation, (2),(3) remove whitespace and (4) lowercase all words. Using the makeWordList function, construct a list of processed documents."
      ]
    },
    {
      "metadata": {
        "colab_type": "code",
        "id": "IZz4HoZHq4NC",
        "colab": {}
      },
      "cell_type": "code",
      "source": [
        "import re\n",
        "import string\n",
        "import codecs\n",
        "\n",
        "def makeWordList(path):\n",
        "    \n",
        "    with codecs.open(path, \"r\", encoding='utf-8', errors='ignore') as f:\n",
        "        corpus_text = f.read()\n",
        "\n",
        "    for c in string.punctuation:\n",
        "        corpus_text = corpus_text.replace(c, \"\")  # -- (1)\n",
        "    \n",
        "    text = re.sub(r'\\S*\\d\\S*', '', corpus_text) # -- (2)\n",
        "    text = re.sub(r'[^\\w\\s]', '', text)         # -- (3)\n",
        "    \n",
        "    text = text.lower().split()           # -- (4)         \n",
        "    \n",
        "    li = []\n",
        "    for token in text:\n",
        "        li.append(token)\n",
        "\n",
        "    return \" \".join(li)"
      ],
      "execution_count": 0,
      "outputs": []
    },
    {
      "metadata": {
        "colab_type": "code",
        "id": "E_Wx0dvtq4NH",
        "colab": {}
      },
      "cell_type": "code",
      "source": [
        "import spacy\n",
        "nlp = spacy.load('en')\n",
        "import glob\n",
        "list_of_files = glob.glob('./data/enron/*.txt')\n",
        "document_list = list()\n",
        "for file in list_of_files:\n",
        "    document_list.append(makeWordList(file))\n",
        "    "
      ],
      "execution_count": 0,
      "outputs": []
    },
    {
      "metadata": {
        "colab_type": "text",
        "id": "OWJ18gdpq4NJ"
      },
      "cell_type": "markdown",
      "source": [
        "### Part B: Construct a document matrix [10 points]"
      ]
    },
    {
      "metadata": {
        "colab_type": "text",
        "id": "ymSYhvAvq4NK"
      },
      "cell_type": "markdown",
      "source": [
        "Next, construct a document matrix `X` as a matrix of [TF-IDF](https://en.wikipedia.org/wiki/Tf%E2%80%93idf) features for each document. TF-IDF features encode information about the word frequency within a document, weighted by the frequency of the same word for corpus as a whole.\n",
        "\n",
        "   - Use the `TfidfVectorizer` from [scikit-learn](http://scikit-learn.org/stable/modules/generated/sklearn.feature_extraction.text.TfidfVectorizer.html) to create the document matrix `X`.\n",
        "   - Set `min_df=50`; this drops words that don't occur in at least 50 documents.\n",
        "   - Set `stop_words=\"english\"` and `max_df=0.8` to filter out stop-words.\n",
        "   - Print the number of unique words in the vocabulary Hint: Look for the `vocabulary_` attribute in the `TfidfVectorizer` object after fitting the vectorizer to the data set. The vocabulary will also be needed in part (d)."
      ]
    },
    {
      "metadata": {
        "colab_type": "code",
        "id": "qf2VdsjCq4NL",
        "outputId": "a2cf8f44-1f9d-482a-f7a2-9052142d7b00",
        "colab": {
          "base_uri": "https://localhost:8080/",
          "height": 578
        }
      },
      "cell_type": "code",
      "source": [
        "from sklearn.feature_extraction.text import TfidfVectorizer\n",
        "vectorizer = TfidfVectorizer(min_df=50, max_df=0.8, stop_words=\"english\")\n",
        "X=vectorizer.fit_transform(document_list)\n",
        "print(len(vectorizer.vocabulary_))"
      ],
      "execution_count": 0,
      "outputs": [
        {
          "output_type": "stream",
          "text": [
            "1680\n"
          ],
          "name": "stdout"
        }
      ]
    },
    {
      "metadata": {
        "colab_type": "text",
        "id": "bxivqJYdq4NQ"
      },
      "cell_type": "markdown",
      "source": [
        "### Part C: Perform Clustering [10 points]"
      ]
    },
    {
      "metadata": {
        "colab_type": "text",
        "id": "gNfbR5FVq4NQ"
      },
      "cell_type": "markdown",
      "source": [
        "Perform clustering on the document matrix X using GMMs. \n",
        "- Use the `GaussianMixture` module from [scikit-learn](http://scikit-learn.org/stable/modules/generated/sklearn.mixture.GaussianMixture.html) to cluster the documents.\n",
        "- Set the number of clusters (mixture components) to 3.\n",
        "- Print the number of documents assigned to each cluster."
      ]
    },
    {
      "metadata": {
        "colab_type": "code",
        "id": "Je9RT0Ztq4NR",
        "colab": {}
      },
      "cell_type": "code",
      "source": [
        "from sklearn.mixture import GaussianMixture\n",
        "gmm = GaussianMixture(n_components=3)\n",
        "gmm=gmm.fit(X.toarray())\n",
        "clusters = gmm.predict(X.toarray())\n",
        "collections.Counter(clusters)"
      ],
      "execution_count": 0,
      "outputs": []
    },
    {
      "metadata": {
        "id": "3r5Phb9rePns",
        "colab_type": "code",
        "colab": {},
        "outputId": "84466225-a1ce-457d-bbf1-992416017ed2"
      },
      "cell_type": "code",
      "source": [
        "import collections\n",
        "counter=collections.Counter(clusters)\n",
        "print('Cluster'.ljust(10), 'Elements'.ljust(10))\n",
        "for key, value in counter.items():\n",
        "    print(str(key).ljust(10), str(value).ljust(5))"
      ],
      "execution_count": 0,
      "outputs": [
        {
          "output_type": "stream",
          "text": [
            "Cluster    Elements  \n",
            "2          699  \n",
            "1          3821 \n",
            "0          651  \n"
          ],
          "name": "stdout"
        }
      ]
    },
    {
      "metadata": {
        "colab_type": "code",
        "id": "TUkNBeteq4NV",
        "colab": {}
      },
      "cell_type": "code",
      "source": [
        "spam_words=['free','offer','click']\n",
        "ham_words=['attached','status','meeting']\n",
        "spam_indices=list()\n",
        "ham_indices=list()\n",
        "for i in spam_words:\n",
        "    spam_indices.append(vectorizer.vocabulary_[i])\n",
        "for i in ham_words:\n",
        "    ham_indices.append(vectorizer.vocabulary_[i])\n"
      ],
      "execution_count": 0,
      "outputs": []
    },
    {
      "metadata": {
        "colab_type": "text",
        "id": "_jDhwQDWq4NX"
      },
      "cell_type": "markdown",
      "source": [
        "### Part D: Characterize the clusters [10 points]"
      ]
    },
    {
      "metadata": {
        "colab_type": "text",
        "id": "923xFW6Xq4NZ"
      },
      "cell_type": "markdown",
      "source": [
        "Now, we will attempt to characterize the clusters based on the frequency of spam-relevant words. \n",
        "- Select 3 \"spammy\" words from the vocabulary that you expect to occur frequently in spam emails and less frequently in normal business emails (e.g., 'click', 'www', 'offer'). Construct a list, `spam_indices`, storing the indices of the spammy words you selected in the vocabulary generated by `TfidfVectorizer`.\n",
        "- Select 3 \"hammy\" words from the vocabulary you think will occur frequently in business emails and infrequently in spam emails (e.g., 'meeting', 'attached', 'review'). Construct a list, `ham_indices`, storing the indices of the hammy words you selected in the vocabulary generated by `TfidfVectorizer`.\n",
        "- Use the function provided below, `plot_spam_words_by_cluster`, to plot the average TF-IDF features for your selected spammy words and hammy words for each cluster. The function takes four parameters:\n",
        "    - `predicted` is predicted cluster assignments returned by `GaussianMixture.predict()`\n",
        "    - `n_clusters` is the number of clusters. This should match the number of clusters from your GMM.\n",
        "    - `spam_indices` is a list of indices of spammy words in the vocabulary.\n",
        "    - `ham_indices` is a list of indices of hammy (typical business) words in the vocabulary."
      ]
    },
    {
      "metadata": {
        "colab_type": "code",
        "id": "mw3HVgbHq4Na",
        "colab": {}
      },
      "cell_type": "code",
      "source": [
        "def plot_spam_words_by_cluster(predicted, n_clusters, spam_indices, ham_indices):\n",
        "    import numpy as np\n",
        "    import matplotlib.pyplot as plt\n",
        "    \n",
        "    # Calculate mean TF-IDF features for each cluster\n",
        "    mean_tfidf_spam = []\n",
        "    mean_tfidf_ham = []\n",
        "    for spam in spam_indices:\n",
        "        mean_tfidf_spam.append([])\n",
        "    for ham in ham_indices:\n",
        "        mean_tfidf_ham.append([])\n",
        "    \n",
        "    for i in range(n_clusters):\n",
        "        for j, spam_idx in enumerate(spam_indices):\n",
        "            mean_tfidf_spam[j].append(X[predicted==i, spam_idx].mean())\n",
        "        for j, ham_idx in enumerate(ham_indices):\n",
        "            mean_tfidf_ham[j].append(X[predicted==i, ham_idx].mean())\n",
        "    \n",
        "    # Generate plot\n",
        "    fig, ax = plt.subplots()\n",
        "\n",
        "    ind = np.arange(n_clusters)    # the x locations for the groups\n",
        "    width = 0.10         # the width of the bars\n",
        "\n",
        "    # Plot spam bars\n",
        "    for i, val in enumerate(mean_tfidf_spam):\n",
        "        spam_bar = ax.bar(ind - (len(mean_tfidf_spam)-i-1)*width, val, width, color='r', bottom=0)\n",
        "\n",
        "    # Plot ham bars\n",
        "    for i, val in enumerate(mean_tfidf_ham):\n",
        "        ham_bar = ax.bar(ind + (len(mean_tfidf_ham)-i)*width, val, width,\n",
        "                color='y', bottom=0)\n",
        "\n",
        "    ax.set_title('Mean TF-IDF Features by Cluster for Spam-Relevant Words')\n",
        "    ax.set_xticks(ind + width / 2)\n",
        "    xticklabels = []\n",
        "    for i in range(n_clusters):\n",
        "        xticklabels.append('Cluster ' + str(i) + '\\n(n=' + str((predicted==i).sum()) + ')')\n",
        "    ax.set_xticklabels(xticklabels)\n",
        "\n",
        "    ax.legend((spam_bar[0], ham_bar[0]), ('Spammy words', 'Hammy words'))\n",
        "    ax.autoscale_view()\n",
        "    ax.set_ylabel('Mean TF-IDF')\n",
        "    plt.show()"
      ],
      "execution_count": 0,
      "outputs": []
    },
    {
      "metadata": {
        "colab_type": "code",
        "id": "GjRdC1rHq4Ne",
        "outputId": "6000e80d-2f2a-482c-e681-c98260a430f5",
        "colab": {}
      },
      "cell_type": "code",
      "source": [
        "gmm = GaussianMixture(n_components=3)\n",
        "gmm=gmm.fit(X.toarray())\n",
        "predicted=gmm.predict(X.toarray())\n",
        "n_clusters=3\n",
        "plot_spam_words_by_cluster(predicted, n_clusters, spam_indices, ham_indices)"
      ],
      "execution_count": 0,
      "outputs": [
        {
          "output_type": "display_data",
          "data": {
            "image/png": "[encoded data removed]",
            "text/plain": [
              "<Figure size 432x288 with 1 Axes>"
            ]
          },
          "metadata": {
            "tags": [],
            "needs_background": "light"
          }
        }
      ]
    },
    {
      "metadata": {
        "colab_type": "text",
        "id": "wPtfoebBq4Ni"
      },
      "cell_type": "markdown",
      "source": [
        "### Part E: Interpret results [10 points]"
      ]
    },
    {
      "metadata": {
        "colab_type": "text",
        "id": "vBnpi-lgq4Nk"
      },
      "cell_type": "markdown",
      "source": [
        "From the plot generated in part (d), do any of the clusters correspond to spam emails, based on the frequency of spammy and hammy words? Do any of the clusters appear to correspond to typical business emails (ham)? \n",
        "\n",
        "Re-run your analysis with a different choice for the number of clusters in your GMM (e.g., `n_clusters=5` or `n_clusters=2`). How does changing the number of clusters affect your results? Does one choice of `n_clusters` appear better than another for locating clusters of spam emails?"
      ]
    },
    {
      "metadata": {
        "colab_type": "text",
        "id": "oaprpQ6oq4Nl"
      },
      "cell_type": "markdown",
      "source": [
        "By experimenting with a different number of clusters, we get different results each time. From the results shown here we can see that none of the options particulary show undesirable results. However, picking either 3 or 5 clusters show better results. Personally, I'd pick n=3 where we get two clusters which are clearly dominated by spam emails. \n",
        "\n",
        "\n",
        "\n"
      ]
    },
    {
      "metadata": {
        "id": "WuK-hUWFePn_",
        "colab_type": "code",
        "colab": {},
        "outputId": "10c54e06-3317-43ac-d47b-e2c807e1e1cb"
      },
      "cell_type": "code",
      "source": [
        "gmm = GaussianMixture(n_components=5)\n",
        "gmm=gmm.fit(X.toarray())\n",
        "predicted=gmm.predict(X.toarray())\n",
        "n_clusters=5\n",
        "plot_spam_words_by_cluster(predicted, n_clusters, spam_indices, ham_indices)"
      ],
      "execution_count": 0,
      "outputs": [
        {
          "output_type": "display_data",
          "data": {
            "image/png": "[encoded data removed]",
            "text/plain": [
              "<Figure size 432x288 with 1 Axes>"
            ]
          },
          "metadata": {
            "tags": [],
            "needs_background": "light"
          }
        }
      ]
    },
    {
      "metadata": {
        "id": "ARQubtMSePoD",
        "colab_type": "code",
        "colab": {},
        "outputId": "ece91de0-0aab-4d2f-a643-35d56a37637c"
      },
      "cell_type": "code",
      "source": [
        "gmm = GaussianMixture(n_components=2)\n",
        "gmm=gmm.fit(X.toarray())\n",
        "predicted=gmm.predict(X.toarray())\n",
        "n_clusters=2\n",
        "plot_spam_words_by_cluster(predicted, n_clusters, spam_indices, ham_indices)"
      ],
      "execution_count": 0,
      "outputs": [
        {
          "output_type": "display_data",
          "data": {
            "image/png": "[encoded data removed]",
            "text/plain": [
              "<Figure size 432x288 with 1 Axes>"
            ]
          },
          "metadata": {
            "tags": [],
            "needs_background": "light"
          }
        }
      ]
    },
    {
      "metadata": {
        "colab_type": "text",
        "id": "nnbHNQnuq4Np"
      },
      "cell_type": "markdown",
      "source": [
        "## Question 2: Latent \"Purposes\" in Mobile Apps [45 points]\n",
        "\n",
        "\n",
        "Think of Android applications as \"documents\", where \"words\" are the \"permissions\" that each app requests. Each app has a set of latent \"purposes\" (topics); a \"purpose\" may be a specific task (such as taking photographs and uploading them to the internet), and an application may have a mixture of purposes of varying strength.\n",
        "\n",
        "Can we uncover these purposes from a dataset of Android applications and the permissions they request?"
      ]
    },
    {
      "metadata": {
        "colab_type": "code",
        "id": "wX56hhjSq4Nq",
        "colab": {}
      },
      "cell_type": "code",
      "source": [
        "import numpy as np\n",
        "import matplotlib.pyplot as plt\n",
        "import pandas as pd\n",
        "%matplotlib inline"
      ],
      "execution_count": 0,
      "outputs": []
    },
    {
      "metadata": {
        "colab_type": "text",
        "id": "sjKjj9GIq4Nt"
      },
      "cell_type": "markdown",
      "source": [
        "### Part A: Load the data [0 points]"
      ]
    },
    {
      "metadata": {
        "colab_type": "text",
        "id": "VXFk-F2Vq4Nw"
      },
      "cell_type": "markdown",
      "source": [
        "The [dataset](http://www.mariofrank.net/andrApps/) contains ~180,000 applications from the Android app store, including each app's name, description and permissions requested. For more about Android app permissions, see [this report](http://www.pewinternet.org/2015/11/10/an-analysis-of-android-app-permissions/).\n",
        "\n",
        "   * Download the data and unzip it into the same folder as this notebook.\n",
        "   * Rename the CSV file to \"android.csv\".\n",
        "   * Run the cells below to load the data into the notebook.\n",
        "\n",
        "This may take up ~2GB of RAM."
      ]
    },
    {
      "metadata": {
        "colab_type": "code",
        "id": "B6E1jHNiq4N1",
        "colab": {}
      },
      "cell_type": "code",
      "source": [
        "df = pd.read_csv(\"android.csv\", sep=\",\",  thousands=\",\")\n",
        "df[\"Number of ratings\"] = df[\"Number of ratings\"].astype(int) # fix data type\n",
        "df = df.drop_duplicates(subset=[\"App\"]).reset_index(drop=True)"
      ],
      "execution_count": 0,
      "outputs": []
    },
    {
      "metadata": {
        "colab_type": "code",
        "id": "YT-232QYq4N7",
        "outputId": "e4d755d8-12b1-4140-ca47-7828a04ade97",
        "colab": {
          "base_uri": "https://localhost:8080/",
          "height": 483
        }
      },
      "cell_type": "code",
      "source": [
        "df.head(n=3)"
      ],
      "execution_count": 4,
      "outputs": [
        {
          "output_type": "execute_result",
          "data": {
            "text/html": [
              "<div>\n",
              "<style scoped>\n",
              "    .dataframe tbody tr th:only-of-type {\n",
              "        vertical-align: middle;\n",
              "    }\n",
              "\n",
              "    .dataframe tbody tr th {\n",
              "        vertical-align: top;\n",
              "    }\n",
              "\n",
              "    .dataframe thead th {\n",
              "        text-align: right;\n",
              "    }\n",
              "</style>\n",
              "<table border=\"1\" class=\"dataframe\">\n",
              "  <thead>\n",
              "    <tr style=\"text-align: right;\">\n",
              "      <th></th>\n",
              "      <th>App</th>\n",
              "      <th>Package</th>\n",
              "      <th>Category</th>\n",
              "      <th>Description</th>\n",
              "      <th>Rating</th>\n",
              "      <th>Number of ratings</th>\n",
              "      <th>Price</th>\n",
              "      <th>Related apps</th>\n",
              "      <th>Dangerous permissions count</th>\n",
              "      <th>Safe permissions count</th>\n",
              "      <th>...</th>\n",
              "      <th>Your personal information : read Browser's history and bookmarks (D)</th>\n",
              "      <th>Your personal information : read calendar events (D)</th>\n",
              "      <th>Your personal information : read contact data (D)</th>\n",
              "      <th>Your personal information : read sensitive log data (D)</th>\n",
              "      <th>Your personal information : read user defined dictionary (D)</th>\n",
              "      <th>Your personal information : retrieve system internal state (S)</th>\n",
              "      <th>Your personal information : set alarm in alarm clock (S)</th>\n",
              "      <th>Your personal information : write Browser's history and bookmarks (D)</th>\n",
              "      <th>Your personal information : write contact data (D)</th>\n",
              "      <th>Your personal information : write to user defined dictionary (S)</th>\n",
              "    </tr>\n",
              "  </thead>\n",
              "  <tbody>\n",
              "    <tr>\n",
              "      <th>0</th>\n",
              "      <td>Google Maps</td>\n",
              "      <td>com.google.android.apps.maps</td>\n",
              "      <td>Travel &amp; Local</td>\n",
              "      <td>Download the latest release of Google Maps, an...</td>\n",
              "      <td>4.4</td>\n",
              "      <td>1438259</td>\n",
              "      <td>$0.00</td>\n",
              "      <td>{com.jsdfproductions.ctatrackerpro, com.alk.co...</td>\n",
              "      <td>17.0</td>\n",
              "      <td>8</td>\n",
              "      <td>...</td>\n",
              "      <td>0</td>\n",
              "      <td>0</td>\n",
              "      <td>1</td>\n",
              "      <td>0</td>\n",
              "      <td>0</td>\n",
              "      <td>0</td>\n",
              "      <td>0</td>\n",
              "      <td>0</td>\n",
              "      <td>1</td>\n",
              "      <td>0</td>\n",
              "    </tr>\n",
              "    <tr>\n",
              "      <th>1</th>\n",
              "      <td>Snowfall Live Wallpaper</td>\n",
              "      <td>fishnoodle.snowfall_free</td>\n",
              "      <td>Personalization</td>\n",
              "      <td>Snowfall Live Wallpaper: Wintertime on your ho...</td>\n",
              "      <td>4.3</td>\n",
              "      <td>18147</td>\n",
              "      <td>$0.00</td>\n",
              "      <td>{colfore.wallpaper.snowfree, com.tabsoft.wallp...</td>\n",
              "      <td>0.0</td>\n",
              "      <td>0</td>\n",
              "      <td>...</td>\n",
              "      <td>0</td>\n",
              "      <td>0</td>\n",
              "      <td>0</td>\n",
              "      <td>0</td>\n",
              "      <td>0</td>\n",
              "      <td>0</td>\n",
              "      <td>0</td>\n",
              "      <td>0</td>\n",
              "      <td>0</td>\n",
              "      <td>0</td>\n",
              "    </tr>\n",
              "    <tr>\n",
              "      <th>2</th>\n",
              "      <td>Aquarium Live Wallpaper</td>\n",
              "      <td>fishnoodle.aquarium_free</td>\n",
              "      <td>Personalization</td>\n",
              "      <td>A beautiful tropical fish tank live wallpaper!...</td>\n",
              "      <td>4.1</td>\n",
              "      <td>62145</td>\n",
              "      <td>$0.00</td>\n",
              "      <td>{com.convisual.lwp.fishometerlite, com.accessl...</td>\n",
              "      <td>0.0</td>\n",
              "      <td>0</td>\n",
              "      <td>...</td>\n",
              "      <td>0</td>\n",
              "      <td>0</td>\n",
              "      <td>0</td>\n",
              "      <td>0</td>\n",
              "      <td>0</td>\n",
              "      <td>0</td>\n",
              "      <td>0</td>\n",
              "      <td>0</td>\n",
              "      <td>0</td>\n",
              "      <td>0</td>\n",
              "    </tr>\n",
              "  </tbody>\n",
              "</table>\n",
              "<p>3 rows × 183 columns</p>\n",
              "</div>"
            ],
            "text/plain": [
              "                       App                       Package         Category  \\\n",
              "0              Google Maps  com.google.android.apps.maps   Travel & Local   \n",
              "1  Snowfall Live Wallpaper      fishnoodle.snowfall_free  Personalization   \n",
              "2  Aquarium Live Wallpaper      fishnoodle.aquarium_free  Personalization   \n",
              "\n",
              "                                         Description  Rating  \\\n",
              "0  Download the latest release of Google Maps, an...     4.4   \n",
              "1  Snowfall Live Wallpaper: Wintertime on your ho...     4.3   \n",
              "2  A beautiful tropical fish tank live wallpaper!...     4.1   \n",
              "\n",
              "   Number of ratings  Price  \\\n",
              "0            1438259  $0.00   \n",
              "1              18147  $0.00   \n",
              "2              62145  $0.00   \n",
              "\n",
              "                                        Related apps  \\\n",
              "0  {com.jsdfproductions.ctatrackerpro, com.alk.co...   \n",
              "1  {colfore.wallpaper.snowfree, com.tabsoft.wallp...   \n",
              "2  {com.convisual.lwp.fishometerlite, com.accessl...   \n",
              "\n",
              "   Dangerous permissions count  Safe permissions count  \\\n",
              "0                         17.0                       8   \n",
              "1                          0.0                       0   \n",
              "2                          0.0                       0   \n",
              "\n",
              "                                 ...                                 \\\n",
              "0                                ...                                  \n",
              "1                                ...                                  \n",
              "2                                ...                                  \n",
              "\n",
              "   Your personal information : read Browser's history and bookmarks (D)  \\\n",
              "0                                                  0                      \n",
              "1                                                  0                      \n",
              "2                                                  0                      \n",
              "\n",
              "   Your personal information : read calendar events (D)  \\\n",
              "0                                                  0      \n",
              "1                                                  0      \n",
              "2                                                  0      \n",
              "\n",
              "   Your personal information : read contact data (D)  \\\n",
              "0                                                  1   \n",
              "1                                                  0   \n",
              "2                                                  0   \n",
              "\n",
              "   Your personal information : read sensitive log data (D)  \\\n",
              "0                                                  0         \n",
              "1                                                  0         \n",
              "2                                                  0         \n",
              "\n",
              "   Your personal information : read user defined dictionary (D)  \\\n",
              "0                                                  0              \n",
              "1                                                  0              \n",
              "2                                                  0              \n",
              "\n",
              "   Your personal information : retrieve system internal state (S)  \\\n",
              "0                                                  0                \n",
              "1                                                  0                \n",
              "2                                                  0                \n",
              "\n",
              "   Your personal information : set alarm in alarm clock (S)  \\\n",
              "0                                                  0          \n",
              "1                                                  0          \n",
              "2                                                  0          \n",
              "\n",
              "   Your personal information : write Browser's history and bookmarks (D)  \\\n",
              "0                                                  0                       \n",
              "1                                                  0                       \n",
              "2                                                  0                       \n",
              "\n",
              "   Your personal information : write contact data (D)  \\\n",
              "0                                                  1    \n",
              "1                                                  0    \n",
              "2                                                  0    \n",
              "\n",
              "   Your personal information : write to user defined dictionary (S)  \n",
              "0                                                  0                 \n",
              "1                                                  0                 \n",
              "2                                                  0                 \n",
              "\n",
              "[3 rows x 183 columns]"
            ]
          },
          "metadata": {
            "tags": []
          },
          "execution_count": 4
        }
      ]
    },
    {
      "metadata": {
        "colab_type": "text",
        "id": "nasYvW84q4N-"
      },
      "cell_type": "markdown",
      "source": [
        "### Part B: Convert each app into a \"document\" [0 points]\n",
        "\n",
        "The code below does the following:\n",
        "\n",
        "   * Filter out all the columns except the permission columns.\n",
        "   * Convert this dataframe into a numpy matrix.\n",
        "\n",
        "There are thus 180295 apps (documents) and 173 permissions (words).\n",
        "\n",
        "   - `X` is the \"document\" or \"word-frequency\" matrix.\n",
        "   - `permission_columns` contains the words ordered by their column index in X.\n",
        "   - `app_names` contains the application names ordered by their row index in X.\n",
        "   - `app_ratings` contains the *number* of application ratings (not the ratings themselves)."
      ]
    },
    {
      "metadata": {
        "colab_type": "code",
        "id": "nD10fCCTq4N_",
        "colab": {}
      },
      "cell_type": "code",
      "source": [
        "permission_columns = list(df.columns[10:])\n",
        "app_names = list(df[\"App\"])\n",
        "app_ratings = np.array(df[\"Number of ratings\"])\n",
        "df_perms = df[permission_columns]\n",
        "X = df_perms.as_matrix()\n",
        "#del df # uncomment to free up RAM\n",
        "#del df_perms # uncomment to free up RAM"
      ],
      "execution_count": 0,
      "outputs": []
    },
    {
      "metadata": {
        "colab_type": "code",
        "id": "oTczhTU2A_Tf",
        "outputId": "3500556c-6356-49bd-fcfc-fc551a64d7c4",
        "colab": {
          "base_uri": "https://localhost:8080/",
          "height": 34
        }
      },
      "cell_type": "code",
      "source": [
        "X.shape"
      ],
      "execution_count": 6,
      "outputs": [
        {
          "output_type": "execute_result",
          "data": {
            "text/plain": [
              "(180295, 173)"
            ]
          },
          "metadata": {
            "tags": []
          },
          "execution_count": 6
        }
      ]
    },
    {
      "metadata": {
        "colab_type": "text",
        "id": "p6VqX4T9q4OD"
      },
      "cell_type": "markdown",
      "source": [
        "### Part C: Downweight \"stop-words\" [2.5 points]\n",
        "\n",
        "There are some permissions requested by almost all applications (like \"INTERNET\"), they are similar to stop-words (\"the\", \"and\", etc.) in natural language. We can downweight them by TF-IDF normalization.\n",
        "\n",
        "   * Use the `TfidfTransformer` class in `scikit-learn` to transform X."
      ]
    },
    {
      "metadata": {
        "colab_type": "code",
        "id": "xiNyKBrUq4OD",
        "colab": {}
      },
      "cell_type": "code",
      "source": [
        "from sklearn.feature_extraction.text import TfidfTransformer\n",
        "from sklearn.feature_extraction.text import CountVectorizer\n",
        "tf_transformer=TfidfTransformer()\n",
        "tf=tf_transformer.fit_transform(X)\n",
        "\n"
      ],
      "execution_count": 0,
      "outputs": []
    },
    {
      "metadata": {
        "colab_type": "text",
        "id": "zoUM7BW6q4OF"
      },
      "cell_type": "markdown",
      "source": [
        "### Part D: Discover 10 \"topics\" [2.5 points]\n",
        "\n",
        "   * Use the `LatentDirichletAllocation` class in `scikit-learn` to fit 10 topics to the data.\n",
        "   * Use 10 max iterations, set `n_jobs=-1` to use all cores on your machine (if it helps).\n",
        "   * Feel free to understand and play around with other parameters.\n",
        "   * This may take around 3 minutes to run."
      ]
    },
    {
      "metadata": {
        "colab_type": "code",
        "id": "rSsqqEocq4OG",
        "outputId": "a73c4f73-5f6b-42c3-bb8b-e43fe6f0b569",
        "colab": {
          "base_uri": "https://localhost:8080/",
          "height": 51
        }
      },
      "cell_type": "code",
      "source": [
        "%%time\n",
        "from sklearn.decomposition import LatentDirichletAllocation\n",
        "lda = LatentDirichletAllocation(n_components=10, learning_method='online', random_state=0, max_iter=10, n_jobs=-1)\n",
        "lda_output=lda.fit_transform(tf)"
      ],
      "execution_count": 8,
      "outputs": [
        {
          "output_type": "stream",
          "text": [
            "CPU times: user 49 s, sys: 3.28 s, total: 52.3 s\n",
            "Wall time: 3min 46s\n"
          ],
          "name": "stdout"
        }
      ]
    },
    {
      "metadata": {
        "colab_type": "text",
        "id": "95ZWEpuPq4OI"
      },
      "cell_type": "markdown",
      "source": [
        "Now each app can be viewed as a distribution over these 10 topics, and each topic is a distribution over all the permissions in the data."
      ]
    },
    {
      "metadata": {
        "colab_type": "text",
        "id": "DZZIZFgPq4OK"
      },
      "cell_type": "markdown",
      "source": [
        "### Part E: List the top 10 \"words\" in each topic [15 points]\n",
        "\n",
        "Do any of the topics correspond to meaningful app \"purposes\"? List the ones you find meaningful below:\n",
        "\n",
        "   * Topic #i: \"your interpretation\""
      ]
    },
    {
      "metadata": {
        "colab_type": "code",
        "id": "POF3HaEwq4OK",
        "outputId": "fe3a3a83-0cc3-401b-cace-8b0844261c49",
        "colab": {
          "base_uri": "https://localhost:8080/",
          "height": 2115
        }
      },
      "cell_type": "code",
      "source": [
        "import numpy as np\n",
        "num_top_words = 10\n",
        "\n",
        "print('Displaying the top %d words per topic and their probabilities within the topic...' % num_top_words)\n",
        "print()\n",
        "\n",
        "topic_word_distributions = np.array([topic_word_pseudocounts / np.sum(topic_word_pseudocounts)\n",
        "                                     for topic_word_pseudocounts in lda.components_])\n",
        "for topic_idx in range(10):\n",
        "    print('[Topic ', topic_idx, ']', sep='')\n",
        "    sort_indices = np.argsort(topic_word_distributions[topic_idx])[::-1]\n",
        "    for rank in range(num_top_words):\n",
        "        word_idx = sort_indices[rank]\n",
        "        print(permission_columns[word_idx], ':', topic_word_distributions[topic_idx, word_idx])\n",
        "    print()\n",
        "\n"
      ],
      "execution_count": 9,
      "outputs": [
        {
          "output_type": "stream",
          "text": [
            "Displaying the top 10 words per topic and their probabilities within the topic...\n",
            "\n",
            "[Topic 0]\n",
            "Your location : coarse (network-based) location (D) : 0.2497660434949354\n",
            "Your location : fine (GPS) location (D) : 0.2316251282429189\n",
            "Phone calls : read phone state and identity (D) : 0.19219641962982564\n",
            "Network communication : full Internet access (D) : 0.19066880150464124\n",
            "Network communication : view network state (S) : 0.13524210728204505\n",
            "Storage : modify/delete USB storage contents modify/delete SD card contents (D) : 2.9855928874572517e-06\n",
            "Services that cost you money : directly call phone numbers (D) : 2.985564476217826e-06\n",
            "Your location : access extra location provider commands (S) : 2.9854079381155904e-06\n",
            "Network communication : view Wi-Fi state (S) : 2.9853725642405716e-06\n",
            "Hardware controls : control vibrator (S) : 2.9853170002848134e-06\n",
            "\n",
            "[Topic 1]\n",
            "Hardware controls : control vibrator (S) : 0.6991690258533321\n",
            "Network communication : full Internet access (D) : 0.1716470484883401\n",
            "Network communication : view network state (S) : 0.1007885711897803\n",
            "System tools : allow Wi-Fi Multicast reception (D) : 0.01782919408130444\n",
            "Hardware controls : test hardware (S) : 0.009016888421984044\n",
            "Default : modify/delete USB storage contents modify/delete SD card contents (S) : 9.223285412841247e-06\n",
            "Phone calls : read phone state and identity (D) : 9.222969792593911e-06\n",
            "Default : run in factory test mode (S) : 9.222799003230892e-06\n",
            "System tools : prevent device from sleeping (D) : 9.222779845260822e-06\n",
            "Storage : modify/delete USB storage contents modify/delete SD card contents (D) : 9.222757875576111e-06\n",
            "\n",
            "[Topic 2]\n",
            "Network communication : full Internet access (D) : 0.7013948810173645\n",
            "Network communication : view network state (S) : 0.2981421243505766\n",
            "Services that cost you money : directly call phone numbers (D) : 2.70758655796689e-06\n",
            "Your personal information : read contact data (D) : 2.7075778886526837e-06\n",
            "System tools : display system-level alerts (D) : 2.707572808649732e-06\n",
            "Hardware controls : change your audio settings (D) : 2.7075721681574985e-06\n",
            "Default : force device reboot (S) : 2.7075717081727862e-06\n",
            "System tools : write Access Point Name settings (D) : 2.7075717001591693e-06\n",
            "Default : delete applications (S) : 2.707571239964996e-06\n",
            "Default : change screen orientation (S) : 2.7075710733513816e-06\n",
            "\n",
            "[Topic 3]\n",
            "Services that cost you money : directly call phone numbers (D) : 0.11427627998338767\n",
            "Your personal information : read contact data (D) : 0.08152826820571485\n",
            "Your location : fine (GPS) location (D) : 0.061959650813844615\n",
            "Network communication : full Internet access (D) : 0.05129408800892897\n",
            "Services that cost you money : send SMS messages (D) : 0.0479373864847976\n",
            "Phone calls : read phone state and identity (D) : 0.04441405335945203\n",
            "Your location : coarse (network-based) location (D) : 0.04365513684427138\n",
            "Storage : modify/delete USB storage contents modify/delete SD card contents (D) : 0.041808924879334096\n",
            "Network communication : view network state (S) : 0.03813704652890165\n",
            "Your messages : receive SMS (D) : 0.035798770935464456\n",
            "\n",
            "[Topic 4]\n",
            "Phone calls : intercept outgoing calls (D) : 0.17060089205878443\n",
            "Hardware controls : change your audio settings (D) : 0.1627299779930022\n",
            "Default : directly install applications (S) : 0.14775997921045542\n",
            "Phone calls : modify phone state (S) : 0.07746736046544588\n",
            "Default : delete applications (S) : 0.07380444678207312\n",
            "System tools : display system-level alerts (D) : 0.07158827842194458\n",
            "Default : change screen orientation (S) : 0.05530594803395566\n",
            "Default : power device on or off (S) : 0.04420071969998443\n",
            "Default : modify secure system settings (S) : 0.04040442064978379\n",
            "System tools : write Access Point Name settings (D) : 0.032695667525717745\n",
            "\n",
            "[Topic 5]\n",
            "Storage : modify/delete USB storage contents modify/delete SD card contents (D) : 0.37548301609244733\n",
            "System tools : prevent device from sleeping (D) : 0.22305578118824945\n",
            "Network communication : full Internet access (D) : 0.17847359609344757\n",
            "Network communication : view network state (S) : 0.1339227816591161\n",
            "Phone calls : read phone state and identity (D) : 0.08625394713496874\n",
            "Default : bind to a wallpaper (S) : 0.0023063359005080592\n",
            "Hardware controls : control vibrator (S) : 3.0213150673707233e-06\n",
            "Default : directly install applications (S) : 3.021314656650347e-06\n",
            "Your location : fine (GPS) location (D) : 3.0213016644007418e-06\n",
            "Your location : coarse (network-based) location (D) : 3.0212948917266996e-06\n",
            "\n",
            "[Topic 6]\n",
            "Hardware controls : take pictures and videos (D) : 0.18161522386108944\n",
            "System tools : automatically start at boot (S) : 0.13076250155335964\n",
            "Storage : modify/delete USB storage contents modify/delete SD card contents (D) : 0.09863584825956276\n",
            "Network communication : full Internet access (D) : 0.08161792850634184\n",
            "Hardware controls : control vibrator (S) : 0.08103749068134605\n",
            "Hardware controls : record audio (D) : 0.08086028577637785\n",
            "Network communication : view network state (S) : 0.07198766422673811\n",
            "Phone calls : read phone state and identity (D) : 0.055978510763787744\n",
            "Your location : coarse (network-based) location (D) : 0.05359347602540656\n",
            "Your location : fine (GPS) location (D) : 0.048698387455821474\n",
            "\n",
            "[Topic 7]\n",
            "System tools : kill background processes (S) : 0.18747790668823233\n",
            "Your personal information : read Browser's history and bookmarks (D) : 0.1439486253274333\n",
            "Your personal information : write Browser's history and bookmarks (D) : 0.1185203861911515\n",
            "System tools : change your UI settings (D) : 0.11244918703124372\n",
            "Storage : modify/delete USB storage contents modify/delete SD card contents (D) : 0.05773601399559834\n",
            "Hardware controls : control vibrator (S) : 0.053264030659158086\n",
            "Network communication : view network state (S) : 0.053145224436549045\n",
            "Network communication : full Internet access (D) : 0.048432449931154004\n",
            "Phone calls : read phone state and identity (D) : 0.04103140997568887\n",
            "System tools : modify global system settings (D) : 0.03086692377056639\n",
            "\n",
            "[Topic 8]\n",
            "System tools : set wallpaper (S) : 0.1974461079780965\n",
            "Network communication : view Wi-Fi state (S) : 0.17438356504379576\n",
            "Network communication : view network state (S) : 0.1119454243426795\n",
            "Network communication : full Internet access (D) : 0.10878822557264863\n",
            "Storage : modify/delete USB storage contents modify/delete SD card contents (D) : 0.10712528512891059\n",
            "System tools : retrieve running applications (D) : 0.10176140102959554\n",
            "Phone calls : read phone state and identity (D) : 0.09268670899315491\n",
            "System tools : change Wi-Fi state (D) : 0.034768683975212565\n",
            "Your personal information : read sensitive log data (D) : 0.026439202285945658\n",
            "System tools : change network connectivity (D) : 0.021074114428219083\n",
            "\n",
            "[Topic 9]\n",
            "Network communication : receive data from Internet (S) : 0.11007455194384572\n",
            "System tools : modify global system settings (D) : 0.08256846518209353\n",
            "System tools : prevent device from sleeping (D) : 0.08214179262368321\n",
            "Your accounts : discover known accounts (S) : 0.0783970402045298\n",
            "Network communication : view network state (S) : 0.0725452761946718\n",
            "Storage : modify/delete USB storage contents modify/delete SD card contents (D) : 0.061422223419294146\n",
            "Network communication : full Internet access (D) : 0.060685536237369504\n",
            "Phone calls : read phone state and identity (D) : 0.05856118130116783\n",
            "System tools : automatically start at boot (S) : 0.055428229096886425\n",
            "Hardware controls : control vibrator (S) : 0.048077687144089415\n",
            "\n"
          ],
          "name": "stdout"
        }
      ]
    },
    {
      "metadata": {
        "colab_type": "text",
        "id": "E1RIgYcgq4ON"
      },
      "cell_type": "markdown",
      "source": [
        "Topic 0 could be related to broadcasting\n",
        "Topic 1 and 2 seem to be communication related. \n",
        "Topic 6 seems to be related to the Camera/taking pictures and videos and hence could be social media related.\n",
        "Topic 7 could be system apps related\n"
      ]
    },
    {
      "metadata": {
        "colab_type": "text",
        "id": "iSfmzCBlq4ON"
      },
      "cell_type": "markdown",
      "source": [
        "### Part F: For each topic, list the top 3 apps with at least 100000 ratings having the highest probability assigned to that topic [15 points]\n",
        "\n",
        "   - This further helps us understand what the topics actually mean.\n",
        "   - However, the data is noisy and this exercise may result in listing a bunch of obscure apps.\n",
        "   - Hence, filtering out all apps with less than 100000 ratings may help."
      ]
    },
    {
      "metadata": {
        "colab_type": "code",
        "id": "lBl3Pvkv_Pn0",
        "colab": {}
      },
      "cell_type": "code",
      "source": [
        "\n",
        "topic_app=lda_output.T\n",
        "\n"
      ],
      "execution_count": 0,
      "outputs": []
    },
    {
      "metadata": {
        "colab_type": "code",
        "id": "Zo98BmR8GffI",
        "outputId": "81383fc7-1849-4004-a867-83f4175aa883",
        "colab": {
          "base_uri": "https://localhost:8080/",
          "height": 877
        }
      },
      "cell_type": "code",
      "source": [
        "import numpy as np\n",
        "num_top_words = 3\n",
        "\n",
        "for topic_idx in range(10):\n",
        "    print('[Topic ', topic_idx, ']', sep='')\n",
        "    sort_indices = np.argsort(topic_app[topic_idx])[::-1]\n",
        "    count=0\n",
        "    for rank in range(len(sort_indices)):\n",
        "        app_idx = sort_indices[rank]\n",
        "        if app_ratings[app_idx]>100000:\n",
        "          print(app_names[app_idx], ':', topic_app[topic_idx, app_idx])\n",
        "          count+=1\n",
        "        if count > 2:\n",
        "          break\n",
        "          \n",
        "    print()\n",
        "\n"
      ],
      "execution_count": 12,
      "outputs": [
        {
          "output_type": "stream",
          "text": [
            "[Topic 0]\n",
            "Paper Toss : 0.6935712513560037\n",
            "Blast Monkeys : 0.6657724360317356\n",
            "Street View on Google Maps : 0.6616797775340042\n",
            "\n",
            "[Topic 1]\n",
            "Bubble Blast 2 : 0.3791216210062891\n",
            "Mouse Trap : 0.3791216210062891\n",
            "Drag Racing : 0.3791216210062891\n",
            "\n",
            "[Topic 2]\n",
            "Yoo Ninja! Free : 0.6247362115320704\n",
            "Angry Birds Seasons : 0.6247362115320704\n",
            "Adobe Reader : 0.5499710822276588\n",
            "\n",
            "[Topic 3]\n",
            "The Weather Channel : 0.6962885869221298\n",
            "GO SMS Pro : 0.6913021692492407\n",
            "Pandora® internet radio : 0.5987867022581115\n",
            "\n",
            "[Topic 4]\n",
            "Yahoo! Mail : 0.1744473954015851\n",
            "WeatherBug : 0.16244839252766927\n",
            "MP3 Music Download Pro : 0.14860162721953005\n",
            "\n",
            "[Topic 5]\n",
            "Real BlackJack : 0.7163907494597623\n",
            "My Country : 0.6962125457337517\n",
            "Paradise Island : 0.6962125457337517\n",
            "\n",
            "[Topic 6]\n",
            "Seesmic (Facebook, Twitter) : 0.7787313595268472\n",
            "Tiny Flashlight + LED : 0.749707632861313\n",
            "ColorNote Notepad Notes : 0.7142400743248426\n",
            "\n",
            "[Topic 7]\n",
            "Ant Smasher Free Game : 0.5329234919867366\n",
            "Bunny Shooter : 0.5329234919867366\n",
            "Lookout Security & Antivirus : 0.3096972728648738\n",
            "\n",
            "[Topic 8]\n",
            "Netflix : 0.7496900933639092\n",
            "Inotia3: Children of Carnia : 0.747514944801886\n",
            "Slice It! : 0.7208918775288589\n",
            "\n",
            "[Topic 9]\n",
            "Twitter : 0.7982750357506417\n",
            "Meet New People : 0.7744339150650699\n",
            "Restaurant Story™ : 0.7273271766635863\n",
            "\n"
          ],
          "name": "stdout"
        }
      ]
    },
    {
      "metadata": {
        "colab_type": "text",
        "id": "Rbs235ylq4OT"
      },
      "cell_type": "markdown",
      "source": [
        "### Part G: Visualize the document-topic proportion matrix in 2-D using t-SNE [10 points]\n",
        "\n",
        "Does our reduced dimensional space contain any structure? Visualize the documents (in the topic-space) using t-SNE.\n",
        "\n",
        "   * Use `TSNE` from `scikit-learn`.\n",
        "   * Set the angle to 0.99 and init to 'PCA'. Pick any learning rate that gives you a visually pleasing result.\n",
        "   * You may `fit` TSNE to a sample of the data (>1000 documents) instead of the full data.\n",
        "   * Remember to call `fit_transform` to obtain your 2-D data.\n",
        "   * Plot the t-SNE dimensions as a scatterplot.\n",
        "   * Color each point based on its most probable topic. Make sure you include a legend (10 colors).\n",
        "   \n",
        "Clusters in the t-SNE plot indicate groups of apps that have similar topics."
      ]
    },
    {
      "metadata": {
        "colab_type": "code",
        "id": "XQtd2xYcq4OT",
        "outputId": "e23e2d93-25f5-4afd-d1e2-27d1f0dbeb70",
        "colab": {
          "base_uri": "https://localhost:8080/",
          "height": 51
        }
      },
      "cell_type": "code",
      "source": [
        "%%time\n",
        "########################################################################\n",
        "reduced_data = np.random.permutation(lda_output)[:1500]\n",
        "app_topic = []\n",
        "for i in reduced_data:\n",
        "    most_probable=np.argsort(i)[::-1][0]\n",
        "    app_topic.append(most_probable)\n",
        "from sklearn.manifold import TSNE \n",
        "tsne = TSNE(n_components = 2, perplexity = 20, random_state = 0, angle = 0.99, init = 'pca', learning_rate = 100)\n",
        "reduced_tsne = tsne.fit_transform(reduced_data)"
      ],
      "execution_count": 13,
      "outputs": [
        {
          "output_type": "stream",
          "text": [
            "CPU times: user 5.74 s, sys: 134 ms, total: 5.87 s\n",
            "Wall time: 5.86 s\n"
          ],
          "name": "stdout"
        }
      ]
    },
    {
      "metadata": {
        "colab_type": "code",
        "id": "erMPqkPjA6L0",
        "colab": {
          "base_uri": "https://localhost:8080/",
          "height": 369
        },
        "outputId": "afe72f81-f0c9-4e00-bea0-3a202396e91c"
      },
      "cell_type": "code",
      "source": [
        "import seaborn as sns\n",
        "plot_data = pd.DataFrame(reduced_tsne, columns = ['tsne_1','tsne_2'])\n",
        "plot_data['topics'] = app_topic\n",
        "facet = sns.lmplot(data=plot_data, x='tsne_1', y='tsne_2', hue='topics', fit_reg=False, legend=True, legend_out=True)"
      ],
      "execution_count": 16,
      "outputs": [
        {
          "output_type": "display_data",
          "data": {
            "image/png": "[encoded data removed]",
            "text/plain": [
              "<Figure size 401.625x360 with 1 Axes>"
            ]
          },
          "metadata": {
            "tags": []
          }
        }
      ]
    },
    {
      "metadata": {
        "colab_type": "text",
        "id": "h5YpIu3gq4OX"
      },
      "cell_type": "markdown",
      "source": [
        "## Question 3: Questionnaire [5 points]\n",
        "\n",
        "Please answer this survey after you have done this homework: https://goo.gl/forms/qi1acwKwxSfNJfjt1"
      ]
    }
  ]
}