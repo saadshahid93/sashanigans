{
  "nbformat": 4,
  "nbformat_minor": 0,
  "metadata": {
    "colab": {
      "name": "HW1.ipynb",
      "version": "0.3.2",
      "provenance": [],
      "collapsed_sections": []
    },
    "kernelspec": {
      "display_name": "Python 3",
      "language": "python",
      "name": "python3"
    }
  },
  "cells": [
    {
      "metadata": {
        "id": "1DlWJzIPi59w",
        "colab_type": "text"
      },
      "cell_type": "markdown",
      "source": [
        "Name: Saad Shahid\n",
        "\n",
        "Andrew ID: sshahid\n",
        "\n",
        "Collaborators (if none, say \"none\"; do *not* leave this blank): Code from demo, recitation as well as help from online resources. Discussed values with peers.\n",
        "\n",
        "Reminder: you should not be sharing code."
      ]
    },
    {
      "metadata": {
        "id": "2XxQnZTWi59x",
        "colab_type": "text"
      },
      "cell_type": "markdown",
      "source": [
        "### Instructions\n",
        "1. Fill in your name, Andrew ID, and collaborators above.\n",
        "2. Fill in the code/text blocks to answer each question.\n",
        "3. Do *not* change any of the existing code provided.\n",
        "4. Run the entire notebook *before* submitting it on Canvas to make sure that the code actually runs without errors. (**Important**: Any code cells that you have entered code for but did not actually execute will be disregarded, so please be sure to actually run your code first and make sure it runs without errors! We may re-run a subset of your code for grading purposes.)\n",
        "5. Be careful about where you save data for use with this Jupyter notebook (more details on this later)."
      ]
    },
    {
      "metadata": {
        "id": "uXCWNC-Vi59x",
        "colab_type": "text"
      },
      "cell_type": "markdown",
      "source": [
        "### [Problem 1] The Distribution of Words in a Human Language: Zipf's Law [45 pts]\n",
        "\n",
        "In this problem, you will be looking at a phenomenon of \"natural languages\" (i.e., human languages, such as English). As it turns out, when we look at the distribution of words in a different human languages, the distribution roughly follows what's called *Zipf's law* ([Wikipedia](https://en.wikipedia.org/wiki/Zipf%27s_law)).\n",
        "\n",
        "*Zipf's law* states that given a large sample of words used, any word's frequency is inversely proportional to its rank in the frequency table (the word with rank 1 is the most frequently occurring word, the word with rank 2 is the second most frequently occurring word, etc). In this problem, you are going to test Zipf's law on a real dataset and explore some of its properties.\n",
        "\n",
        "This problem assumes you have already installed the `spaCy` package ([https://spacy.io](https://spacy.io)). Instructions for installing this are part of the tutorial file \"`Anaconda, Jupyter, and spaCy setup tutorial.pdf`\". You can find how to access lemmatized tokens using `spaCy` by looking at the `spaCy` demo Jupyter notebook from lecture.\n",
        "\n",
        "Note: For this problem, you don't actually need `spaCy`'s named entity recognition, grammatical parsing, or part-of-speech tagging. Turning these elements off when you instantiate the nlp object can substantially speed up your code.  To make sure these are off when instantiating the nlp object, call: \n",
        "\n",
        "`\n",
        "nlp = spacy.load('en', disable=['ner', 'parser', 'tagger'])\n",
        "`\n",
        "\n",
        "\n",
        "(a) [5 pts] Read the data files.\n",
        "\n",
        "The dataset is a collection of the 100 most popular books downloaded from Gutenburg Project ([https://www.gutenberg.org/browse/scores/top](https://www.gutenberg.org/browse/scores/top)). Each file contains the text of a book. Now read all the texts from disk. This will be the corpus in this problem.\n",
        "\n",
        "Note: Please DO NOT change the folder name or the path, and make sure you use a relative path (e.g. './HW1_Dataset/*filename*) when reading the files. When grading your homework, we will put your Jupyter notebook file and the dataset in the same folder, and run your code. **You will receive 0 points for this problem if your code fails to load the data.**\n",
        "\n",
        "Hint: To list all files that match a certain pattern, you can use the `glob` package. Here's an example usage:\n",
        "\n",
        "`\n",
        "import glob\n",
        "print(glob.glob('./HW1_Dataset/*.txt'))\n",
        "`\n",
        "\n",
        "Hint: When debugging your code, you may want to first make sure your code runs on a few of the books rather than all 100 (for example, you can start by only having 3 of the text files in `HW1_Dataset`). Once you're confident that your solution is correct on a few text files, then run on all of them! This is a standard approach to debugging code that is meant to handle large datasets."
      ]
    },
    {
      "metadata": {
        "id": "ohRZepYBi59z",
        "colab_type": "code",
        "colab": {}
      },
      "cell_type": "code",
      "source": [
        "import spacy\n",
        "nlp = spacy.load('en')\n",
        "import glob\n",
        "nlp.max_length=700000000000\n",
        "list_of_files = glob.glob('./HW1_Dataset/*.txt')\n",
        "file_path='./HW1_Dataset/'\n",
        "\n",
        "    \n",
        "    \n",
        "    \n",
        "\n"
      ],
      "execution_count": 0,
      "outputs": []
    },
    {
      "metadata": {
        "id": "rEw4sdrTi593",
        "colab_type": "text"
      },
      "cell_type": "markdown",
      "source": [
        "(b) [15 pts] Build the frequency table. Specifically, complete the following three tasks:\n",
        "\n",
        "  1. Process the text by separating and lemmatizing the words.\n",
        "  2. Then count the number of times each word appears in the corpus and build a frequency table. (In particular, use raw counts as the \"frequency\"--do not divide by the total number of words in the corpus.)\n",
        "  3. Sort the table and print the top 50 most frequent words, along with their frequencies and ranks. Don't worry about ties (for example, if multiple things have the same frequency, it's fine if your solution breaks ties arbitrarily in the sorting).\n",
        "\n",
        "Note: When counting the words, only include words (tokens) that consist of alphabetic letters (a-z and A-Z). You can do this with what's called a *regular expression*. For example, to check whether the words \"will.i.am\" or \"Tesla\" are alphabetic, you would do the following:\n",
        "\n",
        "`\n",
        "import re  # regular expression package\n",
        "if re.match('[a-zA-Z]+$', 'will.i.am'):\n",
        "    print('will.i.am consists only of alphabetic letters!')\n",
        "if re.match('[a-zA-Z]+$', 'Tesla'):\n",
        "    print('tesla consists only of alphabetic letters!')\n",
        "`"
      ]
    },
    {
      "metadata": {
        "scrolled": true,
        "id": "xzNvoLh0i594",
        "colab_type": "code",
        "colab": {},
        "outputId": "018881f2-706e-47ce-9773-db3267d4cc0b"
      },
      "cell_type": "code",
      "source": [
        "from collections import Counter\n",
        "from operator import itemgetter\n",
        "import re\n",
        "histogram = Counter()\n",
        "file_count=0\n",
        "for file in list_of_files:\n",
        "    text=open(file, encoding=\"utf8\").read()\n",
        "    parsed_text=nlp(text)\n",
        "    for token in parsed_text:\n",
        "        lemma = token.lemma_.lower()\n",
        "        if(re.match('[a-zA-Z]+$', lemma)):\n",
        "            histogram[lemma] += 1\n",
        "    file_count+=1\n",
        "    if file_count > 10:\n",
        "            break\n",
        "\n",
        "#######Only reading 11 files for performance issues###########\n",
        "sorted_lemma_count_pairs = sorted(histogram.items(),\n",
        "                                  reverse=True,\n",
        "                                  key=itemgetter(1))\n",
        "c=1\n",
        "l=list()\n",
        "for lemma, count in sorted_lemma_count_pairs:\n",
        "    if c <=50:\n",
        "        print(lemma, \":\", count, 'rank:', c)\n",
        "    l.append(count)\n",
        "    c+=1                              "
      ],
      "execution_count": 0,
      "outputs": [
        {
          "output_type": "stream",
          "text": [
            "the : 40497 rank: 1\n",
            "be : 26737 rank: 2\n",
            "and : 26432 rank: 3\n",
            "of : 21136 rank: 4\n",
            "to : 19131 rank: 5\n",
            "a : 16261 rank: 6\n",
            "in : 13444 rank: 7\n",
            "have : 9304 rank: 8\n",
            "that : 8660 rank: 9\n",
            "not : 7186 rank: 10\n",
            "with : 6134 rank: 11\n",
            "as : 5741 rank: 12\n",
            "for : 5472 rank: 13\n",
            "do : 5092 rank: 14\n",
            "say : 4633 rank: 15\n",
            "but : 4357 rank: 16\n",
            "on : 4234 rank: 17\n",
            "at : 4172 rank: 18\n",
            "by : 3658 rank: 19\n",
            "all : 3425 rank: 20\n",
            "so : 3378 rank: 21\n",
            "this : 3000 rank: 22\n",
            "would : 2767 rank: 23\n",
            "go : 2750 rank: 24\n",
            "there : 2676 rank: 25\n",
            "or : 2573 rank: 26\n",
            "from : 2494 rank: 27\n",
            "no : 2473 rank: 28\n",
            "which : 2338 rank: 29\n",
            "one : 2318 rank: 30\n",
            "if : 2299 rank: 31\n",
            "out : 2291 rank: 32\n",
            "when : 2251 rank: 33\n",
            "up : 2226 rank: 34\n",
            "will : 2112 rank: 35\n",
            "de : 2038 rank: 36\n",
            "see : 2004 rank: 37\n",
            "come : 1947 rank: 38\n",
            "an : 1914 rank: 39\n",
            "what : 1907 rank: 40\n",
            "know : 1838 rank: 41\n",
            "get : 1818 rank: 42\n",
            "then : 1816 rank: 43\n",
            "good : 1791 rank: 44\n",
            "make : 1763 rank: 45\n",
            "who : 1716 rank: 46\n",
            "could : 1625 rank: 47\n",
            "time : 1563 rank: 48\n",
            "take : 1540 rank: 49\n",
            "work : 1512 rank: 50\n"
          ],
          "name": "stdout"
        }
      ]
    },
    {
      "metadata": {
        "id": "tSzStWx9i599",
        "colab_type": "text"
      },
      "cell_type": "markdown",
      "source": [
        "(c) [10 pts] Visualize the frequency table by plotting a **raw scatter plot** (put frequency as the y-axis and rank as the x-axis), and a **log-log plot** (use logarithmic scales on both the x- and y- axes). Note that this should be for all words and not only the top 50. As before, for the ranks, do not worry about ties, i.e., break ties arbitrarily."
      ]
    },
    {
      "metadata": {
        "id": "O-OnxN6-i59-",
        "colab_type": "code",
        "colab": {},
        "outputId": "95383c71-b6c2-484a-8bf6-e7c71ecb12ab"
      },
      "cell_type": "code",
      "source": [
        "# Raw scatter plot\n",
        "import numpy as np\n",
        "import matplotlib.pyplot as plt\n",
        "s=len(sorted_lemma_count_pairs)+1\n",
        "x=np.arange(1,s)\n",
        "y=np.array(l)\n",
        "\n",
        "colors = (0,0,0)\n",
        "area = np.pi*3\n",
        " \n",
        "# Plot\n",
        "plt.scatter(x,y, color = 'c')\n",
        "plt.xlabel('x-axis')\n",
        "plt.ylabel('y-axis')\n",
        "plt.title('My plot')\n",
        "plt.grid()\n",
        "plt.show()"
      ],
      "execution_count": 0,
      "outputs": [
        {
          "output_type": "display_data",
          "data": {
            "image/png": "[encoded data removed]",
            "text/plain": [
              "<Figure size 432x288 with 1 Axes>"
            ]
          },
          "metadata": {
            "tags": [],
            "needs_background": "light"
          }
        }
      ]
    },
    {
      "metadata": {
        "scrolled": true,
        "id": "g6jIqT8qi5-C",
        "colab_type": "code",
        "colab": {},
        "outputId": "f094d8f0-2477-4d12-ad70-fca5d7f7c738"
      },
      "cell_type": "code",
      "source": [
        "# Log-log plot\n",
        "import numpy as np\n",
        "import matplotlib.pyplot as plt\n",
        "s=len(sorted_lemma_count_pairs)+1\n",
        "x=np.arange(1,s)\n",
        "y=np.array(l)\n",
        "\n",
        "colors = (0,0,0)\n",
        "area = np.pi*3\n",
        " \n",
        "# Plot\n",
        "plt.loglog(x,y)\n",
        "plt.show()"
      ],
      "execution_count": 0,
      "outputs": [
        {
          "output_type": "display_data",
          "data": {
            "image/png": "[encoded data removed]",
            "text/plain": [
              "<Figure size 432x288 with 1 Axes>"
            ]
          },
          "metadata": {
            "tags": [],
            "needs_background": "light"
          }
        }
      ]
    },
    {
      "metadata": {
        "id": "IQ8JPLPfi5-F",
        "colab_type": "text"
      },
      "cell_type": "markdown",
      "source": [
        "(d) [15 pts] Explore the frequency table: Zipf's law states that term frequency is governed by a power low, i.e. the relationship between term frequency and rank can be approximated by $f(r) = cr^{-1}$, where $f(r)$ is the frequency of the term at rank $r$, $r$ is the rank of a term, and $c$ is a constant and is approximately 0.1*(corpus size) for English. \n",
        "\n",
        "Answer following questions:\n",
        "\n",
        "- What do you observe in the log-log plot above? Is this consist with the power law?"
      ]
    },
    {
      "metadata": {
        "id": "cat7oMkJi5-G",
        "colab_type": "text"
      },
      "cell_type": "markdown",
      "source": [
        "Your text answer (for this question, your answer is *not* code):The log-log plot above seems to be consistent with the Zipf's law where the frequency of words is decreasing exponentially as the values of the rank increases. "
      ]
    },
    {
      "metadata": {
        "id": "7ix-98Yhi5-H",
        "colab_type": "text"
      },
      "cell_type": "markdown",
      "source": [
        "- Think of the corpus as a (large) unigram bag of words. Following the analogy from lecture, imagine drawing a single word from this big bag (note that we are assuming that we've lemmatized the words and also filtered out non-alphanumeric words). What is the probability of drawing one of the 4 most frequent words? What is the probability of drawing one of the 50 most frequent words? Answer these two questions using code rather than just entering in the final answers as numbers."
      ]
    },
    {
      "metadata": {
        "id": "tLgDhF31i5-I",
        "colab_type": "code",
        "colab": {},
        "outputId": "7f16d749-5e93-458f-9817-5e5a816878da"
      },
      "cell_type": "code",
      "source": [
        "c=1\n",
        "top4=0\n",
        "total=0\n",
        "top50=0\n",
        "c1=0\n",
        "c10=0\n",
        "for lemma,count in sorted_lemma_count_pairs:\n",
        "    if c <= 4:\n",
        "        top4+=count\n",
        "    if c <=50:\n",
        "        top50+=count\n",
        "    if count==1:\n",
        "        c1+=1\n",
        "    if count<10:\n",
        "        c10+=1\n",
        "    total+=count\n",
        "    c+=1\n",
        "print('Probability of drawing one of the 4 most frequent words: ', top4/total)        \n",
        "print('Probability of drawing one of the 50 most frequent words: ', top50/total)\n",
        "print(top4, top50)"
      ],
      "execution_count": 0,
      "outputs": [
        {
          "output_type": "stream",
          "text": [
            "Probability of drawing one of the 4 most frequent words:  0.17465905564041553\n",
            "Probability of drawing one of the 50 most frequent words:  0.45709365091922616\n",
            "114802 300444\n"
          ],
          "name": "stdout"
        }
      ]
    },
    {
      "metadata": {
        "id": "GFkSIVK8i5-N",
        "colab_type": "text"
      },
      "cell_type": "markdown",
      "source": [
        "- What proportion of the words occur only once? What proportion of the words occur fewer than 10 times?"
      ]
    },
    {
      "metadata": {
        "scrolled": true,
        "id": "AAONcoX9i5-O",
        "colab_type": "code",
        "colab": {},
        "outputId": "b3878614-ee14-42cc-fe47-49dd59fe39d7"
      },
      "cell_type": "code",
      "source": [
        "print(\"Occur only once: \", c1/len(histogram))\n",
        "print(\"Occur fewer than 10 times: \", c10/len(histogram))\n"
      ],
      "execution_count": 0,
      "outputs": [
        {
          "output_type": "stream",
          "text": [
            "Occur only once:  0.3836117381489842\n",
            "Occur fewer than 10 times:  0.781489841986456\n"
          ],
          "name": "stdout"
        }
      ]
    },
    {
      "metadata": {
        "id": "8oAKIDu7i5-R",
        "colab_type": "text"
      },
      "cell_type": "markdown",
      "source": [
        "### [Problem 2] Entity Recognition and Pointwise Mutual Information (PMI) [50 pts]\n",
        "By using the entity recognition system in `spaCy`, let's identify named entities from newspaper articles. You'll be using Reuters corpus which contains more than ten thousand newspaper articles. To run the code below, you need to download the Reuters dataset. To do so, in a terminal/command line (recall that you can open a terminal from Jupyter's webpage that shows all the files, which by default is [http://localhost:8888/tree](http://localhost:8888/tree)), start up Python and enter:\n",
        "\n",
        "`\n",
        "import nltk\n",
        "nltk.download('reuters')\n",
        "`\n",
        "\n",
        "Then proceed to the problem subparts below.\n",
        "\n",
        "Note that in this problem you will need named entity recognition but not grammatical parsing or the part-of-speech tagging. Hence, you will want to instantiate the nlp object by calling:\n",
        "\n",
        "`\n",
        "nlp = spacy.load('en', disable=['parser', 'tagger'])\n",
        "`\n"
      ]
    },
    {
      "metadata": {
        "id": "iGLUIrd3i5-S",
        "colab_type": "text"
      },
      "cell_type": "markdown",
      "source": [
        "(a) [15 pts] Draw a bar chart in which one of the axes shows entity labels and the other shows the frequency of the corresponding label. Use the variables `reuters_nlp` and `label_counter` provided in the code below."
      ]
    },
    {
      "metadata": {
        "scrolled": false,
        "id": "n82DXD7Vi5-T",
        "colab_type": "code",
        "colab": {
          "base_uri": "https://localhost:8080/",
          "height": 413
        },
        "outputId": "f7949161-001b-4bfe-d335-0e1665ac4faf"
      },
      "cell_type": "code",
      "source": [
        "import matplotlib.pyplot as plt\n",
        "from collections import Counter\n",
        "from nltk.corpus import reuters\n",
        "import re\n",
        "import spacy\n",
        "import numpy as np\n",
        "nlp = spacy.load('en', disable=['parser', 'tagger'])\n",
        "reuters_fileids = reuters.fileids()  # hint: when first debugging, consider looking at just the first few\n",
        "reuters_nlp = [nlp(re.sub('\\s+',' ', reuters.raw(i)).strip()) for i in reuters_fileids]\n",
        "label_counter = Counter()\n",
        "\n",
        "##For bar chart\n",
        "for r in reuters_nlp:\n",
        "  for entity in r.ents:\n",
        "    label_counter[entity.label_]+=1\n",
        "x=np.array(list(label_counter.keys()))\n",
        "y=np.array(list(label_counter.values()))\n",
        "plt.bar(x, y, width=0.5, color=\"red\")\n",
        "plt.xticks(rotation=90)\n",
        "plt.show()    \n"
      ],
      "execution_count": 3,
      "outputs": [
        {
          "output_type": "display_data",
          "data": {
            "image/png": "[encoded data removed]",
            "text/plain": [
              "<Figure size 576x396 with 1 Axes>"
            ]
          },
          "metadata": {
            "tags": []
          }
        }
      ]
    },
    {
      "metadata": {
        "id": "rcRVYL0Si5-X",
        "colab_type": "text"
      },
      "cell_type": "markdown",
      "source": [
        "(b) [15 pts] Now list the top 10 most frequently occured entities (entity text and the number of occurence) with labels `ORG` (organization) and `GPE` (countries, cities, states) respectively.\n",
        "\n",
        "Hint: Here, when counting the frequency, we need to count how many articles have an entity with the desired property. For every article, we add 1 if the article has the entity and 0 otherwise.  List filtering (as in Recitation 1) will be helpful here."
      ]
    },
    {
      "metadata": {
        "id": "WgkwBnYXi5-Y",
        "colab_type": "code",
        "colab": {
          "base_uri": "https://localhost:8080/",
          "height": 430
        },
        "outputId": "4f1601a5-346b-4b71-fba3-9eb8b1d8452e"
      },
      "cell_type": "code",
      "source": [
        "import pandas as pd\n",
        "r_dict_gpe={}\n",
        "r_dict_org={}\n",
        "ent_list_gpe=list()\n",
        "ent_list_org=list()\n",
        "for r in reuters_nlp:\n",
        "  ents_gpe = [entity.lemma_.lower() for entity in r.ents if entity.label_=='GPE']\n",
        "  ents_org= [entity.lemma_.lower() for entity in r.ents if entity.label_=='ORG']\n",
        "  r_dict_gpe[r]=ents_gpe\n",
        "  r_dict_org[r]=ents_org\n",
        "  ent_list_gpe.extend(ents_gpe)\n",
        "  ent_list_org.extend(ents_org)\n",
        "\n",
        "##Calculate most frequent GPE entities\n",
        "ent_count_gpe=Counter()\n",
        "ent_list_set_gpe=list(set(ent_list_gpe))\n",
        "for en in ent_list_set_gpe:\n",
        "  for key, value in r_dict_gpe.items():\n",
        "    if en in value:\n",
        "      ent_count_gpe[en]+=1\n",
        "GPE_Table = pd.DataFrame(ent_count_gpe.most_common(10), columns=['GPE', 'Count'])  \n",
        "print('************Most Frequent GPE entities************')\n",
        "print(GPE_Table)\n",
        "#Calculate most frequent ORG entities\n",
        "ent_count_org=Counter()\n",
        "ent_list_set_org=list(set(ent_list_org))\n",
        "for en in ent_list_set_org:\n",
        "  for key, value in r_dict_org.items():\n",
        "    if en in value:\n",
        "      ent_count_org[en]+=1\n",
        "ORG_Table = pd.DataFrame(ent_count_org.most_common(10), columns=['ORG', 'Count'])  \n",
        "print('************Most Frequent ORG entities************')\n",
        "print(ORG_Table)"
      ],
      "execution_count": 6,
      "outputs": [
        {
          "output_type": "stream",
          "text": [
            "************Most Frequent GPE entities************\n",
            "                 GPE  Count\n",
            "0               u.s.   1666\n",
            "1                shr    690\n",
            "2              japan    588\n",
            "3  the united states    375\n",
            "4               u.k.    309\n",
            "5             canada    291\n",
            "6           new york    271\n",
            "7         washington    240\n",
            "8       west germany    234\n",
            "9             london    212\n",
            "************Most Frequent ORG entities************\n",
            "                                      ORG  Count\n",
            "0                                     avg    583\n",
            "1                                 reuters    445\n",
            "2  the securities and exchange commission    246\n",
            "3                                      ec    240\n",
            "4                                    usda    226\n",
            "5                                     fed    220\n",
            "6                                     net    203\n",
            "7                                treasury    183\n",
            "8         the u.s. agriculture department    170\n",
            "9                                congress    139\n"
          ],
          "name": "stdout"
        }
      ]
    },
    {
      "metadata": {
        "id": "TjEIZRImi5-a",
        "colab_type": "text"
      },
      "cell_type": "markdown",
      "source": [
        "(c) [20 pts] Give the top 50 `GPE` (countries, cities, states) entities that have the highest Pointwise Mutual Information (PMI) values with regard to the `ORG` (organization) entity **'opec'** (your list of this top 50 should be ranked in decreasing PMI value). Did you find any unexpected results? If so, why do you think it happened? If you found some of the results to be unsurprisingly, how come? \n",
        "\n",
        "Hint 1: As in lecture, when computing PMI, we will compute probabilities by counting the number of documents where entities occur or co-occur.  For example, $P('opec') = \\frac{number \\ \\ of \\ \\ documents \\ \\ containing \\ \\ 'opec'}{number \\ \\ of \\ \\ documents}$.  \n",
        "\n",
        "Hint 2: To compute this ranking, you do not have to compute the full PMI equation."
      ]
    },
    {
      "metadata": {
        "id": "zcNInbhwi5-c",
        "colab_type": "code",
        "colab": {
          "base_uri": "https://localhost:8080/",
          "height": 1118
        },
        "outputId": "df53bf07-051b-4f3c-c191-a67ef6cb4b24"
      },
      "cell_type": "code",
      "source": [
        "r_dict1={}\n",
        "r_dict2={}\n",
        "gpe_count=Counter()\n",
        "ent_list1=list()\n",
        "for r1 in reuters_nlp:\n",
        "  ents1 = [entity.lemma_.lower() for entity in r1.ents if entity.lemma_.lower()=='opec']\n",
        "  ents2= [entity.lemma_.lower() for entity in r1.ents]\n",
        "  r_dict1[r1]=ents1  #only opec entities for each file\n",
        "  r_dict2[r1]=ents2  #all entities for each file\n",
        "filtered_dict_opec = {k:v for k,v in r_dict1.items() if len(v)!=0} #keep files that have opec only\n",
        "#for all gpe entities search through opec files and compare\n",
        "for en in ent_list_set_gpe:\n",
        "  for key, value in filtered_dict_opec.items():\n",
        "    if en in r_dict2[key]: #go through all entities of opec only files\n",
        "      gpe_count[en]+=1     #counting co-occurences\n",
        "CoOccur_Table = pd.DataFrame(gpe_count.most_common(10), columns=['GPE', 'Co-occurances'])  \n",
        "print('Most frequent co-occurances')\n",
        "print(CoOccur_Table)\n",
        "print('****************************Top 50 PMI Values***********************************')\n",
        "###now to calculate pmi values\n",
        "PMI_Values=Counter()\n",
        "total_documents=len(reuters_fileids)\n",
        "opec_prob=len(filtered_dict_opec)/total_documents\n",
        "for k,v in gpe_count.items():\n",
        "  numerator=v/total_documents\n",
        "  denominator=(ent_count_gpe[k]/total_documents)*opec_prob\n",
        "  PMI_Values[k]=np.log2(numerator/denominator)\n",
        "PMI_Table = pd.DataFrame(PMI_Values.most_common(50), columns=['Country', 'PMI'])\n",
        "print(PMI_Table)"
      ],
      "execution_count": 14,
      "outputs": [
        {
          "output_type": "stream",
          "text": [
            "Most frequent co-occurances\n",
            "                        GPE  Co-occurances\n",
            "0                      u.s.             41\n",
            "1              saudi arabia             29\n",
            "2                    kuwait             27\n",
            "3                   ecuador             26\n",
            "4                 venezuela             18\n",
            "5                    vienna             17\n",
            "6                     qatar             16\n",
            "7                      iraq             12\n",
            "8  the united arab emirates             11\n",
            "9         saudi arabia have             11\n",
            "****************************Top 50 PMI Values***********************************\n",
            "                 Country       PMI\n",
            "0                   gulf  9.961754\n",
            "1              north sea  9.502322\n",
            "2            west german  8.087285\n",
            "3                  balao  7.824250\n",
            "4           neutral zone  7.502322\n",
            "5                visnews  7.239288\n",
            "6                kuwaiti  7.087285\n",
            "7        saudi arabia 's  6.502322\n",
            "8                 tumaco  6.502322\n",
            "9               petromin  6.502322\n",
            "10                  pgrt  6.502322\n",
            "11              emirates  6.502322\n",
            "12            herrington  6.502322\n",
            "13             kittiwake  6.502322\n",
            "14               tripoli  6.502322\n",
            "15                 nazir  6.502322\n",
            "16  saudi arabia 500,000  6.502322\n",
            "17                  i.e.  6.502322\n",
            "18                 brent  6.502322\n",
            "19               ecaudor  6.502322\n",
            "20            discussion  6.502322\n",
            "21  gabon on africa have  6.502322\n",
            "22                  l.f.  6.502322\n",
            "23                   ope  6.502322\n",
            "24      the lake charles  6.502322\n",
            "25              aguarico  6.502322\n",
            "26             lichtblau  6.502322\n",
            "27            reventador  6.502322\n",
            "28                 north  6.502322\n",
            "29             assessing  6.502322\n",
            "30               sulphur  6.502322\n",
            "31                  doha  6.502322\n",
            "32                  duri  6.502322\n",
            "33             el salado  6.502322\n",
            "34                  week  6.502322\n",
            "35              bethesda  6.502322\n",
            "36                easter  6.502322\n",
            "37              ju'aymah  6.502322\n",
            "38                 yanbu  6.502322\n",
            "39                 minas  6.502322\n",
            "40                   m-2  6.502322\n",
            "41                  cera  6.502322\n",
            "42                vienna  6.267857\n",
            "43                riyadh  6.180394\n",
            "44                 quota  6.087285\n",
            "45     saudi arabia have  5.961754\n",
            "46                 dubai  5.917360\n",
            "47             abu dhabi  5.917360\n",
            "48                 quito  5.917360\n",
            "49                 qatar  5.801882\n"
          ],
          "name": "stdout"
        }
      ]
    },
    {
      "metadata": {
        "id": "g5EMHJ5Qi5-e",
        "colab_type": "text"
      },
      "cell_type": "markdown",
      "source": [
        "Your text answer (for this question, your answer is *not* code): Yes, there are infact some unexpected results. For example as we move towards 7th rank onwards a lot of the entities have the same PMI value. Furthermore, some countries which are highly ranked may seem to not have anything to do with OPEC in reality. Similarly, there are some entities in the list which arent really cities, countries etc (e.g sulphur). These point towards the fact that spacy is an imperfect model and there are shortcomings present in how data is parsed/processed. At the same time there are some expected results as well with entities like kuwait, gulf, saudi arabia having a high PMI value since these would apparently be related to OPEC. "
      ]
    },
    {
      "metadata": {
        "id": "dyIcLxVGi5-g",
        "colab_type": "text"
      },
      "cell_type": "markdown",
      "source": [
        "### [Problem 3] Questionnaire [5 pts]\n",
        "Please provide feedback! To receive the 5 points, be sure to enter your Andrew ID correctly in this Google form: https://goo.gl/forms/tGmCD8L9uI8zNbRG3"
      ]
    },
    {
      "metadata": {
        "id": "G37a4fY0i5-h",
        "colab_type": "code",
        "colab": {}
      },
      "cell_type": "code",
      "source": [
        ""
      ],
      "execution_count": 0,
      "outputs": []
    }
  ]
}